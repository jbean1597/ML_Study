{
 "cells": [
  {
   "cell_type": "code",
   "execution_count": null,
   "id": "dc2519c3",
   "metadata": {},
   "outputs": [],
   "source": [
    "import sys  \n",
    "!{sys.executable} -m pip install contractions"
   ]
  },
  {
   "cell_type": "code",
   "execution_count": 28,
   "id": "f1c94eea",
   "metadata": {
    "scrolled": true
   },
   "outputs": [],
   "source": [
    "import string\n",
    "import torch\n",
    "import torch.nn as nn\n",
    "import torch.nn.functional as F\n",
    "import torch.optim as optim\n",
    "import nltk\n",
    "from nltk import word_tokenize\n",
    "import re\n",
    "import contractions\n",
    "from collections import Counter\n",
    "from torch.utils.data import Dataset, DataLoader, BatchSampler, SequentialSampler"
   ]
  },
  {
   "cell_type": "code",
   "execution_count": 2,
   "id": "92930072",
   "metadata": {},
   "outputs": [
    {
     "data": {
      "text/plain": [
       "<torch._C.Generator at 0x7fc42896b530>"
      ]
     },
     "execution_count": 2,
     "metadata": {},
     "output_type": "execute_result"
    }
   ],
   "source": [
    "torch.manual_seed(1)"
   ]
  },
  {
   "cell_type": "markdown",
   "id": "40693546",
   "metadata": {},
   "source": [
    "# Load and Prepare Data"
   ]
  },
  {
   "cell_type": "code",
   "execution_count": 39,
   "id": "724f74a2",
   "metadata": {},
   "outputs": [
    {
     "name": "stdout",
     "output_type": "stream",
     "text": [
      "268151\n"
     ]
    }
   ],
   "source": [
    "# Import txt file\n",
    "\n",
    "file = open('/Users/jake/Desktop/MLP Projects/Projects_Data/NLP_w2v/raw_gatsby.txt', 'r')\n",
    "raw_gatsby = file.read()\n",
    "file.close()\n",
    "print(len(raw_gatsby))"
   ]
  },
  {
   "cell_type": "code",
   "execution_count": 40,
   "id": "c8fe45c8",
   "metadata": {},
   "outputs": [
    {
     "name": "stdout",
     "output_type": "stream",
     "text": [
      "261535\n",
      "In my younger and more vulnerable years my father gave me some advice that I have been turning over in my mind ever since. Whenever you feel like criticizing anyone he told me just remember that all the people in this world have not had the advantages that you have had. He did not say any more but we have always been unusually communicative in a reserved way and I understood that he meant a great deal more than that. In consequence I am inclined to reserve all judgements a habit that has opened up many curious natures to me and also made me the victim of not a few veteran bores. The abnormal mind is quick to detect and attach itself to this quality when it appears in a normal person and so it came about that in college I was unjustly accused of being a politician because I was privy to the secret griefs of wild unknown men. Most of the confidences were unsought frequently I have feigned sleep preoccupation or a hostile levity when I realized by some unmistakable sign that an intimate r\n"
     ]
    }
   ],
   "source": [
    "# Cleaning Data\n",
    "\n",
    "# Replace quotation marks, commas, colons, and semicolons with blank space; line breaks, double spaces, and hyphens with a space\n",
    "clean_gatsby_start = raw_gatsby.replace('“', '').replace('”', '').replace(';', '').replace(':', '').replace('\\n', ' ').replace(',', ''). replace('  ', ' '). replace('-', ' ').replace('—', ' ')\n",
    "#clean_gatsby_mid = clean_gatsby_start.replace('.', '')\n",
    "\n",
    "# Remove contractions and return whole words\n",
    "clean_gatsby = contractions.fix(clean_gatsby_start)\n",
    "\n",
    "# Remove leftover punctuaction \n",
    "clean_gatsby = clean_gatsby.replace('’', '')\n",
    "\n",
    "\n",
    "\n",
    "print(len(clean_gatsby))\n",
    "print(clean_gatsby[:1000]) # Indices are characters"
   ]
  },
  {
   "cell_type": "code",
   "execution_count": 41,
   "id": "6e5edba5",
   "metadata": {},
   "outputs": [
    {
     "name": "stdout",
     "output_type": "stream",
     "text": [
      "257952\n",
      "In my younger and more vulnerable years my father gave me some advice that I have been turning over in my mind ever since Whenever you feel like criticizing anyone he told me just remember that all the people in this world have not had the advantages that you have had He did not say any more but we have always been unusually communicative in a reserved way and I understood that he meant a great deal more than that In consequence I am inclined to reserve all judgements a habit that has opened up many curious natures to me and also made me the victim of not a few veteran bores The abnormal mind is quick to detect and attach itself to this quality when it appears in a normal person and so it came about that in college I was unjustly accused of being a politician because I was privy to the secret griefs of wild unknown men Most of the confidences were unsought frequently I have feigned sleep preoccupation or a hostile levity when I realized by some unmistakable sign that an intimate revela\n"
     ]
    }
   ],
   "source": [
    "# Remove Puncuation\n",
    "\n",
    "g_no_punc = clean_gatsby.translate(str.maketrans('', '', string.punctuation))\n",
    "print(len(g_no_punc))\n",
    "print(g_no_punc[:1000])"
   ]
  },
  {
   "cell_type": "code",
   "execution_count": 27,
   "id": "f34c3d0b",
   "metadata": {},
   "outputs": [
    {
     "name": "stdout",
     "output_type": "stream",
     "text": [
      "6251\n"
     ]
    }
   ],
   "source": [
    "no_punc_token = word_tokenize(g_no_punc)\n",
    "\n",
    "vocab = set(no_punc_token)\n",
    "print(len(vocab))"
   ]
  },
  {
   "cell_type": "markdown",
   "id": "fdc88dda",
   "metadata": {},
   "source": [
    "# Model"
   ]
  },
  {
   "cell_type": "code",
   "execution_count": 7,
   "id": "1030add4",
   "metadata": {},
   "outputs": [
    {
     "name": "stdout",
     "output_type": "stream",
     "text": [
      "49748\n",
      "(['my', 'In'], 'younger')\n",
      "[([5379, 4088], 4008), ([4008, 5379], 3054), ([3054, 4008], 3335)]\n"
     ]
    }
   ],
   "source": [
    "# Set Hyperparameters\n",
    "\n",
    "CONTEXT_SIZE = 2\n",
    "embed_dims = 10\n",
    "vocab_size = len(vocab)\n",
    "BATCH_SIZE = 128\n",
    "\n",
    "\n",
    "# Create a word to index dict\n",
    "\n",
    "word_to_ix = {word: i for i, word in enumerate(vocab)}\n",
    "ngrams = [\n",
    "    (\n",
    "        [no_punc_token[i - j - 1] for j in range(CONTEXT_SIZE)],\n",
    "        no_punc_token[i]\n",
    "    )\n",
    "    for i in range(CONTEXT_SIZE, len(no_punc_token))\n",
    "]\n",
    "\n",
    "\n",
    "# Create a list of format ([c1, c2], t) for DataLoader\n",
    "\n",
    "word_idx_list = []\n",
    "for i, (c, t) in enumerate(ngrams):\n",
    "    context = [word_to_ix[w] for w in c]\n",
    "    target = word_to_ix[t]\n",
    "    word_idx_list.insert(i, (context, target))\n",
    "\n",
    "    \n",
    "print(len(ngrams))\n",
    "print(ngrams[0])\n",
    "print(word_idx_list[0:3])"
   ]
  },
  {
   "cell_type": "code",
   "execution_count": 8,
   "id": "8f518d4a",
   "metadata": {},
   "outputs": [],
   "source": [
    "# Custom Dataset and DataLoader\n",
    "\n",
    "class GatsDataset(Dataset):\n",
    "    \n",
    "    def __init__(self, data):\n",
    "        self.data = data\n",
    "        print('Data: ', self.data[0])\n",
    "        self.len = len(data)\n",
    "        \n",
    "    def __getitem__(self, index):\n",
    "        return self.data[index]\n",
    "    \n",
    "    def __len__(self):\n",
    "        return self.len\n",
    "    \n",
    "    \n",
    "# Custom Collate Function to correctly shape data with batch size\n",
    "\n",
    "def custom_collate(data):\n",
    "    context = [idx[0] for idx in data]\n",
    "    target = [idx[1] for idx in data]\n",
    "    return torch.tensor(context), torch.tensor(target)\n",
    "    \n"
   ]
  },
  {
   "cell_type": "code",
   "execution_count": null,
   "id": "deec78b2",
   "metadata": {
    "scrolled": true
   },
   "outputs": [
    {
     "name": "stdout",
     "output_type": "stream",
     "text": [
      "Data:  ([5379, 4088], 4008)\n"
     ]
    },
    {
     "name": "stderr",
     "output_type": "stream",
     "text": [
      "Traceback (most recent call last):\n",
      "  File \"<string>\", line 1, in <module>\n",
      "  File \"/opt/anaconda3/lib/python3.9/multiprocessing/spawn.py\", line 116, in spawn_main\n",
      "    exitcode = _main(fd, parent_sentinel)\n",
      "  File \"/opt/anaconda3/lib/python3.9/multiprocessing/spawn.py\", line 126, in _main\n",
      "    self = reduction.pickle.load(from_parent)\n",
      "AttributeError: Can't get attribute 'GatsDataset' on <module '__main__' (built-in)>\n"
     ]
    }
   ],
   "source": [
    "# Call Dataset and DataLoader\n",
    "\n",
    "dataset = GatsDataset(word_idx_list)\n",
    "train_loader = DataLoader(dataset, batch_size = BATCH_SIZE, shuffle = False, collate_fn = custom_collate, drop_last = True, num_workers = 2)\n",
    "\n",
    "\n",
    "for data in train_loader:\n",
    "    print(data)\n",
    "    break\n"
   ]
  },
  {
   "cell_type": "code",
   "execution_count": 29,
   "id": "fba590e0",
   "metadata": {},
   "outputs": [
    {
     "name": "stdout",
     "output_type": "stream",
     "text": [
      "CPU times: user 5.59 ms, sys: 3.08 ms, total: 8.67 ms\n",
      "Wall time: 7.56 ms\n"
     ]
    }
   ],
   "source": [
    "%%time\n",
    "\n",
    "# Class Creation\n",
    "\n",
    "class word2vec(nn.Module):\n",
    "    \n",
    "    def __init__(self, vocab_size, embedding_dim, context_size, batch_size):\n",
    "        super(word2vec, self).__init__()\n",
    "        self.batch_size = batch_size\n",
    "        self.embeddings = nn.Embedding(vocab_size, embedding_dim)\n",
    "        self.linear1 = nn.Linear(context_size * embedding_dim, 128)\n",
    "        self.linear2 = nn.Linear(128, vocab_size)\n",
    "        \n",
    "        \n",
    "    def forward(self, inputs):\n",
    "        embeds = self.embeddings(inputs).view(self.batch_size, -1)\n",
    "        out_1 = F.relu(self.linear1(embeds))\n",
    "        out_2 = self.linear2(out_1)\n",
    "        out_f = F.log_softmax(out_2, dim = 1)\n",
    "        return out_f\n",
    "    \n",
    "    def f_predict(self, inputs):\n",
    "        embeds = self.embeddings(inputs).view(1, -1)\n",
    "        out_1 = F.relu(self.linear1(embeds))\n",
    "        out_2 = self.linear2(out_1)\n",
    "        out_f = F.log_softmax(out_2, dim = 1)\n",
    "        return out_f\n",
    "        \n",
    "    def predict(self, contexts):\n",
    "        inputs = torch.tensor([word_to_ix[w] for w in contexts], dtype = torch.long)\n",
    "        y_pred = self.f_predict(inputs)\n",
    "        idx = torch.argmax(y_pred)\n",
    "        target_pred = [k for k, v in word_to_ix.items() if v == idx]\n",
    "        return target_pred                    \n",
    "    \n",
    "    \n",
    "\n",
    "# Call word2vec with hyperparameters, declare loss function and optimizer with learning rate\n",
    "\n",
    "losses = []\n",
    "loss_function = nn.NLLLoss()\n",
    "gats_model = word2vec(vocab_size, embed_dims, CONTEXT_SIZE, BATCH_SIZE)\n",
    "optimizer = optim.SGD(gats_model.parameters(), lr = 0.1)"
   ]
  },
  {
   "cell_type": "code",
   "execution_count": null,
   "id": "565ca11b",
   "metadata": {},
   "outputs": [],
   "source": [
    "%%time\n",
    "\n",
    "# First Method - For Loop time trial\n",
    "# Params: context_size = 2, lr = 0.001, NLLLoss function, log_softmax\n",
    "# Epochs: 5 - 9min 24s\n",
    "# End Error: 322202.3 (-15.14%)\n",
    "\n",
    "for epoch in range(5):\n",
    "    total_loss = 0.0\n",
    "    \n",
    "    for context, target in ngrams:\n",
    "        context_ids = torch.tensor([word_to_ix[w] for w in context], dtype=torch.long)\n",
    "        gats_model.zero_grad() # PyTorch accumulates gradients so has to be zeroed from previous loop        \n",
    "        log_probs = gats_model(context_ids)\n",
    "        target = torch.tensor([word_to_ix[target]], dtype=torch.long)\n",
    "        loss = loss_function(log_probs, target)\n",
    "        loss.backward()\n",
    "        optimizer.step()\n",
    "\n",
    "        total_loss += loss.item()\n",
    "        \n",
    "    print(total_loss)"
   ]
  },
  {
   "cell_type": "code",
   "execution_count": 11,
   "id": "039ccbc0",
   "metadata": {},
   "outputs": [
    {
     "name": "stdout",
     "output_type": "stream",
     "text": [
      "2953.564935684204\n",
      "1750.248473405838\n",
      "1434.6276547908783\n",
      "1292.9717783927917\n",
      "1208.4133656024933\n",
      "1148.7557430267334\n",
      "1102.2296936511993\n",
      "1063.4776307344437\n",
      "CPU times: user 2h 36min 31s, sys: 2h 4min 57s, total: 4h 41min 28s\n",
      "Wall time: 48min 23s\n"
     ]
    }
   ],
   "source": [
    "%%time\n",
    "\n",
    "# Second Method - Dataloader Batches time trial\n",
    "# Params: context_size = 2, lr = 0.001, NLLLoss function, log_softmax, 5 epochs\n",
    "# Batch: 128 - 38.4s, 64 - 56.8s, 32 - 1min 14s\n",
    "# End Error: 128 - 3607.4 (-1.78%), 64 - 7113.2 (-3.77%), 32 - 13480.6 (-7.15%)\n",
    "\n",
    "for epoch in range(400):\n",
    "    total_loss = 0.0\n",
    "    for context, target in train_loader:\n",
    "        gats_model.zero_grad()\n",
    "        log_probs = gats_model(context)\n",
    "        loss = loss_function(log_probs, target)\n",
    "        loss.backward()\n",
    "        optimizer.step()\n",
    "        total_loss += loss.item()\n",
    "    \n",
    "    if epoch % 50 == 0:\n",
    "        print(total_loss)\n"
   ]
  },
  {
   "cell_type": "code",
   "execution_count": 38,
   "id": "31fad685",
   "metadata": {},
   "outputs": [
    {
     "data": {
      "text/plain": [
       "['largest']"
      ]
     },
     "execution_count": 38,
     "metadata": {},
     "output_type": "execute_result"
    }
   ],
   "source": [
    "# Predict next word given 2 context words\n",
    "\n",
    "gats_model.predict(['Gatsbys', 'house'])"
   ]
  }
 ],
 "metadata": {
  "kernelspec": {
   "display_name": "Python 3 (ipykernel)",
   "language": "python",
   "name": "python3"
  },
  "language_info": {
   "codemirror_mode": {
    "name": "ipython",
    "version": 3
   },
   "file_extension": ".py",
   "mimetype": "text/x-python",
   "name": "python",
   "nbconvert_exporter": "python",
   "pygments_lexer": "ipython3",
   "version": "3.9.13"
  }
 },
 "nbformat": 4,
 "nbformat_minor": 5
}
